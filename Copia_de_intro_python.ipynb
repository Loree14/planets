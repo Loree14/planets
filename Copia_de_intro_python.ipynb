{
  "cells": [
    {
      "cell_type": "markdown",
      "metadata": {
        "id": "view-in-github",
        "colab_type": "text"
      },
      "source": [
        "<a href=\"https://colab.research.google.com/github/Loree14/planets/blob/main/Copia_de_intro_python.ipynb\" target=\"_parent\"><img src=\"https://colab.research.google.com/assets/colab-badge.svg\" alt=\"Open In Colab\"/></a>"
      ]
    },
    {
      "cell_type": "markdown",
      "metadata": {
        "id": "Hwdoqt2zxRuc"
      },
      "source": [
        "<a href=\"https://colab.research.google.com/github/mcd-unison/material-programacion/blob/main/intro-python.ipynb\" target=\"_parent\"><img src=\"https://colab.research.google.com/assets/colab-badge.svg\" alt=\"Open In Colab\"/></a>"
      ]
    },
    {
      "cell_type": "markdown",
      "metadata": {
        "id": "P2QP_02fxRup"
      },
      "source": [
        "<center>\n",
        "<p><img src=\"https://mcd.unison.mx/wp-content/themes/awaken/img/logo_mcd.png\" width=\"100\">\n",
        "</p>\n",
        "\n",
        "\n",
        "\n",
        "# Curso Propedéutico en *Programación*\n",
        "\n",
        "## Introducción a `python` resolviendo preguntas\n",
        "\n",
        "\n",
        "**Julio Waissman Vilanova**\n",
        "\n"
      ]
    },
    {
      "cell_type": "markdown",
      "metadata": {
        "id": "thfjm5soxRus"
      },
      "source": [
        "### Tipos\n",
        "\n",
        "¿Cuales son los tipos de datos básicos? Revisa los tipos siguientes:\n",
        "\n",
        "1. Tipos numéricos `int`, `float`, `complex`\n",
        "2. Cadenas de caracteres\n",
        "3. Tuplas\n",
        "4. Listas\n",
        "5. Diccionarios\n",
        "6. Conjuntos\n",
        "\n",
        "Da ejemplo de sobrecarga de operadores (en particular `+` y `*`)\n",
        "\n"
      ]
    },
    {
      "cell_type": "code",
      "execution_count": null,
      "metadata": {
        "colab": {
          "base_uri": "https://localhost:8080/"
        },
        "id": "yaj3CGLDxRut",
        "outputId": "1b36a99f-d4da-4396-c29a-6fba30792604"
      },
      "outputs": [
        {
          "output_type": "stream",
          "name": "stdout",
          "text": [
            "(3.5+6j)\n",
            "25.0\n",
            "30j\n",
            "naranjapera\n",
            "peraperaperaperaperaperaperaperaperapera\n",
            "(1, 2, 3, 4, 5, 6)\n",
            "(1, 2, 3, 1, 2, 3, 1, 2, 3, 1, 2, 3, 4, 5, 6)\n",
            "[9, 8, 7, 9, 8, 7, 9, 8, 7, 9, 8, 7, 9, 8, 7]\n",
            "[9, 8, 7, 'sandia', 'melon', 'mango']\n",
            "['sandia', 'melon', 'mango', 'sandia', 'melon', 'mango']\n",
            "LuisFernando\n",
            "13\n",
            "45\n",
            "{1, 2, 3, 4, 5}\n",
            "{1, 3}\n"
          ]
        }
      ],
      "source": [
        "#Tipos de números\n",
        "n1=1  #int\n",
        "n2=2.5  #float\n",
        "n3=6j   #complex\n",
        "\n",
        "print(n1+n2+n3)\n",
        "print(n2*10)\n",
        "print(n3*5)\n",
        "\n",
        "c1='naranja' #cadena caracteres\n",
        "c2='pera'\n",
        "\n",
        "print(c1+c2)\n",
        "print(c2*10)\n",
        "\n",
        "t1=(1,2,3) #tuplas\n",
        "t2=(4,5,6)\n",
        "\n",
        "print(t1+t2)\n",
        "print(t1*4+t2)\n",
        "\n",
        "l1=[9,8,7]         #listas\n",
        "l2=['sandia','melon','mango']\n",
        "\n",
        "print(l1*5)\n",
        "print(l1+l2)\n",
        "print(l2*2)\n",
        "\n",
        "d1={'Nombre':'Luis', 'Edad':9} #diccionarios\n",
        "d2={'Nombre':'Fernando', 'Edad':4}\n",
        "\n",
        "print((d1['Nombre'])+(d2['Nombre']))\n",
        "print((d1['Edad'])+(d2['Edad']))\n",
        "print(d1['Edad']*5)\n",
        "\n",
        "con1={1,2,3}    #conjuntos\n",
        "con2={2,4,5}\n",
        "\n",
        "print(con1.union(con2))\n",
        "print(con1.difference(con2))\n"
      ]
    },
    {
      "cell_type": "markdown",
      "metadata": {
        "id": "rF5ExkKqxRuu"
      },
      "source": [
        "¿Que significa que unos tipos sean *mutables* y otros *inmutables*?\n",
        "\n",
        "Realiza un pequeño programa donde quede claro lo que significa que un tipo de datos sea mutable, e ilustra el uso del método `copy.deepcopy()`."
      ]
    },
    {
      "cell_type": "code",
      "execution_count": null,
      "metadata": {
        "id": "i2GFgOY3xRuv",
        "colab": {
          "base_uri": "https://localhost:8080/"
        },
        "outputId": "2dec341a-95f7-4b2e-8a43-8f493f355197"
      },
      "outputs": [
        {
          "output_type": "stream",
          "name": "stdout",
          "text": [
            "[1, 2, 3, 4, 5]\n",
            "[1, 2, 3, 4]\n"
          ]
        }
      ],
      "source": [
        "#Datos mutables: Que pueden ser modificados después de ser creados\n",
        "#Datos inmutables: Que no se pueden modificar después de ser creados\n",
        "\n",
        "import copy\n",
        "\n",
        "ori=[1,2,3,4]   #Lista original (lista es mutable)\n",
        "cop=copy.deepcopy(ori) #Hacemos una copia de la lista original, por deepcopy no se va a modificar cuando modifiquemos la original\n",
        "ori.append(5)\n",
        "\n",
        "print(ori)\n",
        "print(cop)\n"
      ]
    },
    {
      "cell_type": "markdown",
      "metadata": {
        "id": "Vbg-a8OKxRuw"
      },
      "source": [
        "### *Comprehension* de listas, conjuntos y diccionarios\n",
        "\n",
        "Escribe, en una sola linea, una expresión que genere una lista con todos los números enteros que se encuentran entre $1$ y $n$\n",
        "que sean divisibles por $3$ y $7$ y que el dígito menos significativo del número sea $6$."
      ]
    },
    {
      "cell_type": "code",
      "execution_count": null,
      "metadata": {
        "id": "gcM495VixRux",
        "colab": {
          "base_uri": "https://localhost:8080/"
        },
        "outputId": "c306315c-0982-4017-a97c-817701451ed3"
      },
      "outputs": [
        {
          "output_type": "stream",
          "name": "stdout",
          "text": [
            "[126, 336, 546, 756, 966, 1176, 1386, 1596, 1806, 2016, 2226, 2436, 2646, 2856, 3066, 3276, 3486, 3696, 3906, 4116, 4326, 4536, 4746, 4956, 5166, 5376, 5586, 5796, 6006, 6216, 6426, 6636, 6846, 7056, 7266, 7476, 7686, 7896, 8106, 8316, 8526, 8736, 8946, 9156, 9366, 9576, 9786, 9996]\n"
          ]
        }
      ],
      "source": [
        "n = 10_000\n",
        "numeros=[x for x in range(n) if x%7==0 and x%3==0 and x %10 ==6]\n",
        "print(numeros)"
      ]
    },
    {
      "cell_type": "markdown",
      "metadata": {
        "id": "8O3iLHabxRu0"
      },
      "source": [
        "### Funciones\n",
        "\n",
        "Escribe una función que:\n",
        "\n",
        "1. reciba una lista de elementos (letras, números, lo que sea),\n",
        "2. cuente la ocurrencia de cada elemento en la lista,\n",
        "3. devuelva las ocurrencias en forma de diccionario,\n",
        "4. si imprime es True, imprima un histograma de ocurrencias, por ejemplo:\n",
        "\n",
        "```python\n",
        "\n",
        "lista = [1,'a',1, 13, 'hola', 'a', 1, 1, 'a', 1]\n",
        "\n",
        "d = funcion_ejemplo(lista, imprime = True)\n",
        "\n",
        "1    \t\t***** \t(5 -> 50%)\n",
        "'a'  \t\t***   \t(3 -> 30%)\n",
        "13\t\t*\t(1 -> 10%)\n",
        "'hola'\t\t*\t(1 -> 10%)\n",
        "\n",
        "```"
      ]
    },
    {
      "cell_type": "code",
      "execution_count": null,
      "metadata": {
        "id": "n0EdErNPxRu2",
        "colab": {
          "base_uri": "https://localhost:8080/"
        },
        "outputId": "dec42130-2ea5-4f89-e61f-f3b18b5b77b7"
      },
      "outputs": [
        {
          "output_type": "stream",
          "name": "stdout",
          "text": [
            "Cada elemento y su ocurrencia {1: 5, 'a': 3, 13: 1, 'hola': 1}\n",
            "1    *****     50.0 %\n",
            "a    ***     30.0 %\n",
            "13    *     10.0 %\n",
            "hola    *     10.0 %\n",
            "Cada elemento y su ocurrencia {2: 4, 4: 3, 'Koala': 2}\n",
            "Cada elemento y su ocurrencia {2: 4, 4: 3, 'Koala': 2}\n",
            "2    ****     44.44444444444444 %\n",
            "4    ***     33.33333333333333 %\n",
            "Koala    **     22.22222222222222 %\n"
          ]
        }
      ],
      "source": [
        "def d(lista = [1,'a',1, 13, 'hola', 'a', 1, 1, 'a', 1],imprime=True):\n",
        "  dic={}\n",
        "  for x in (lista):\n",
        "    coun=lista.count(x)\n",
        "    if x not in dic:\n",
        "      dic[x]=coun\n",
        "  print('Cada elemento y su ocurrencia',dic)\n",
        "  s=sum(dic.values())\n",
        "  l2=list(dic.values())\n",
        "  l3=list(dic.keys())\n",
        "  for i,f in zip(l2,l3):\n",
        "    por=i/s*100\n",
        "    if imprime==True:\n",
        "      print(f,'  ',('*'*i),'   ',por,'%')\n",
        "d()\n",
        "\n",
        "d([2,4,2,2,2,'Koala','Koala',4,4],imprime=False)\n",
        "\n",
        "d([2,4,2,2,2,'Koala','Koala',4,4],imprime=True)\n",
        "\n"
      ]
    },
    {
      "cell_type": "markdown",
      "metadata": {
        "id": "2mVh3314xRu3"
      },
      "source": [
        "Escribe una función que modifique un diccionario y regrese el diccionario modificado y una copia del original, donde cada entrada\n",
        "del diccionario sea una lista de valores. Ten en cuenta que si una entrada del diccionario es de tipo mutable, al modificarlo en la\n",
        "copia se modifica el original. Utiliza el modulo `copy` para evitar este problema. Ejemplo de la función:\n",
        "\n",
        "```python\n",
        "dic1 = {'Pepe':[12, 'enero', 1980], 'Carolina':[15,'mayo',1975],'Paco':[10,'nov',1970]}\n",
        "dic2 = fundicos(dic1, 'Pepe', 1, 'febrero')\n",
        "\n",
        "print(dic1)\n",
        "{'Pepe':[12, 'enero', 1980], 'Carolina':[15,'mayo',1975],'Paco':[10,'nov',1970]}\n",
        "\n",
        "print(dic2)\n",
        "{'Pepe':[12, 'febrero', 1980], 'Carolina':[15,'mayo',1975],'Paco':[10,'nov',1970]}\n",
        "```"
      ]
    },
    {
      "cell_type": "code",
      "execution_count": null,
      "metadata": {
        "id": "PRjNavL9xRu4"
      },
      "outputs": [],
      "source": [
        "dic1 = {'Pepe':[12, 'enero', 1980], 'Carolina':[15,'mayo',1975],'Paco':[10,'nov',1970]}\n",
        "entrada=[('Juan',(15,'mayo',1995)),('Maria',(27,'diciembre',1988))]\n",
        "import copy\n",
        "def fundicos(dic1, entrada):\n",
        "  dic2=copy.deepcopy(dic1)\n",
        "  dic3={}\n",
        "  for x in entrada:\n",
        "    for (y,z) in (x,x):\n",
        "       dic3[y]=z\n",
        "  dic1.update(dic3)\n",
        "\n",
        "  print('Diccionario Original Modificado: ',dic1)\n",
        "  print('Diccionario Copia: ',dic2)\n"
      ]
    },
    {
      "cell_type": "code",
      "execution_count": null,
      "metadata": {
        "id": "kUSHRrAQxRu5",
        "colab": {
          "base_uri": "https://localhost:8080/"
        },
        "outputId": "85594247-5fbd-4796-f3c1-b9001705b9b5"
      },
      "outputs": [
        {
          "output_type": "stream",
          "name": "stdout",
          "text": [
            "Diccionario Original Modificado:  {'Verde': ['Pepino', 'Limon'], 'Amarillo': ('Platano', 'Maracuya'), 'Rojo': ('Sandia', 'Fresa'), 'Azul': 'Mora'}\n",
            "Diccionario Copia:  {'Verde': ['Pepino', 'Limon'], 'Amarillo': ('Platano', 'Maracuya')}\n"
          ]
        }
      ],
      "source": [
        "# Realiza pruebas de fundicos aquí\n",
        "dic_prueba={'Verde':['Pepino','Limon'],'Amarillo':('Platano','Maracuya')}\n",
        "ent_prueba=[('Rojo',('Sandia','Fresa')),('Azul','Mora')]\n",
        "fundicos(dic_prueba,ent_prueba)\n"
      ]
    },
    {
      "cell_type": "markdown",
      "metadata": {
        "id": "pKz09PhWxRu6"
      },
      "source": [
        "### Generadores\n",
        "\n",
        "Escribe un generador que reciba una lista y genere todas las permutaciones que se puedan hacer con los elementos de la lista"
      ]
    },
    {
      "cell_type": "code",
      "execution_count": null,
      "metadata": {
        "id": "trEN0pQuxRu6",
        "colab": {
          "base_uri": "https://localhost:8080/",
          "height": 106
        },
        "outputId": "4a8994bf-6576-4c28-df45-032e31fb86b0"
      },
      "outputs": [
        {
          "output_type": "error",
          "ename": "SyntaxError",
          "evalue": "incomplete input (<ipython-input-1-45dca6978177>, line 2)",
          "traceback": [
            "\u001b[0;36m  File \u001b[0;32m\"<ipython-input-1-45dca6978177>\"\u001b[0;36m, line \u001b[0;32m2\u001b[0m\n\u001b[0;31m    \u001b[0m\n\u001b[0m    ^\u001b[0m\n\u001b[0;31mSyntaxError\u001b[0m\u001b[0;31m:\u001b[0m incomplete input\n"
          ]
        }
      ],
      "source": [
        "def permutaciones(lista):\n",
        "\n"
      ]
    },
    {
      "cell_type": "code",
      "execution_count": null,
      "metadata": {
        "id": "n2IPSxMuxRu7"
      },
      "outputs": [],
      "source": [
        "# Realiza pruebas de fun2 aquí\n",
        "for p in permutaciones(['a', 'b', 'c', 'd']):\n",
        "    print(p)"
      ]
    },
    {
      "cell_type": "markdown",
      "metadata": {
        "id": "WDdc5OigxRu7"
      },
      "source": [
        "Ahora escribe una funcipn que reciba 4 digitos del 0 al 9, y devuelva una lista con todas las horas váidas que se puedan hacer con estos dígitos en forma de lista de strings con la forma `\"HH:MM\"`."
      ]
    },
    {
      "cell_type": "code",
      "execution_count": null,
      "metadata": {
        "id": "SymJ7TItxRu8"
      },
      "outputs": [],
      "source": [
        "def horas_validas(lista):\n",
        "    \"\"\"\n",
        "    Docstring a comentar correctamente\n",
        "    \"\"\"\n",
        "    #TODO: Implementar la función"
      ]
    },
    {
      "cell_type": "code",
      "source": [
        "for i in range (10):\n",
        "  x=i\n"
      ],
      "metadata": {
        "colab": {
          "base_uri": "https://localhost:8080/",
          "height": 176
        },
        "id": "B0rdxZkFMU8W",
        "outputId": "bf707f4f-e13d-49de-8a37-4e5700aeb25d"
      },
      "execution_count": null,
      "outputs": [
        {
          "output_type": "error",
          "ename": "NameError",
          "evalue": "name 'get_text_list' is not defined",
          "traceback": [
            "\u001b[0;31m---------------------------------------------------------------------------\u001b[0m",
            "\u001b[0;31mNameError\u001b[0m                                 Traceback (most recent call last)",
            "\u001b[0;32m<ipython-input-72-ffcb9ec88fad>\u001b[0m in \u001b[0;36m<cell line: 3>\u001b[0;34m()\u001b[0m\n\u001b[1;32m      1\u001b[0m \u001b[0;32mfor\u001b[0m \u001b[0mi\u001b[0m \u001b[0;32min\u001b[0m \u001b[0mrange\u001b[0m \u001b[0;34m(\u001b[0m\u001b[0;36m10\u001b[0m\u001b[0;34m)\u001b[0m\u001b[0;34m:\u001b[0m\u001b[0;34m\u001b[0m\u001b[0;34m\u001b[0m\u001b[0m\n\u001b[1;32m      2\u001b[0m   \u001b[0mx\u001b[0m\u001b[0;34m=\u001b[0m\u001b[0mi\u001b[0m\u001b[0;34m\u001b[0m\u001b[0;34m\u001b[0m\u001b[0m\n\u001b[0;32m----> 3\u001b[0;31m \u001b[0mget_text_list\u001b[0m\u001b[0;34m(\u001b[0m\u001b[0mx\u001b[0m\u001b[0;34m)\u001b[0m\u001b[0;34m\u001b[0m\u001b[0;34m\u001b[0m\u001b[0m\n\u001b[0m",
            "\u001b[0;31mNameError\u001b[0m: name 'get_text_list' is not defined"
          ]
        }
      ]
    },
    {
      "cell_type": "markdown",
      "metadata": {
        "id": "p6Q75BLRxRu9"
      },
      "source": [
        "Validando:"
      ]
    },
    {
      "cell_type": "code",
      "execution_count": null,
      "metadata": {
        "id": "Z-A3Nn1FxRu9",
        "colab": {
          "base_uri": "https://localhost:8080/",
          "height": 141
        },
        "outputId": "a2919027-fcd8-407e-88f7-8d2a1e6b1fa1"
      },
      "outputs": [
        {
          "output_type": "error",
          "ename": "NameError",
          "evalue": "name 'horas_validas' is not defined",
          "traceback": [
            "\u001b[0;31m---------------------------------------------------------------------------\u001b[0m",
            "\u001b[0;31mNameError\u001b[0m                                 Traceback (most recent call last)",
            "\u001b[0;32m<ipython-input-58-8599903e414a>\u001b[0m in \u001b[0;36m<cell line: 1>\u001b[0;34m()\u001b[0m\n\u001b[0;32m----> 1\u001b[0;31m \u001b[0mprint\u001b[0m\u001b[0;34m(\u001b[0m\u001b[0mhoras_validas\u001b[0m\u001b[0;34m(\u001b[0m\u001b[0;34m[\u001b[0m\u001b[0;36m1\u001b[0m\u001b[0;34m,\u001b[0m\u001b[0;36m2\u001b[0m\u001b[0;34m,\u001b[0m\u001b[0;36m3\u001b[0m\u001b[0;34m,\u001b[0m\u001b[0;36m4\u001b[0m\u001b[0;34m]\u001b[0m\u001b[0;34m)\u001b[0m\u001b[0;34m)\u001b[0m\u001b[0;34m\u001b[0m\u001b[0;34m\u001b[0m\u001b[0m\n\u001b[0m",
            "\u001b[0;31mNameError\u001b[0m: name 'horas_validas' is not defined"
          ]
        }
      ],
      "source": [
        "print(horas_validas([1,2,3,4]))"
      ]
    },
    {
      "cell_type": "markdown",
      "metadata": {
        "id": "E7Iif8ByxRu9"
      },
      "source": [
        "Escribe una función, lo más compacta posible, que escoja entre los 3 patrones ascii a continuación, e imprima en pantalla\n",
        "el deseado, pero de dimensión $n$ ($n \\ge 4$), toma en cuanta que para algunos valores de $n$ habrá\n",
        "algún(os) patrones que no se puedan hacer.\n",
        "\n",
        "```\n",
        "          *             ++++           oooooooo\n",
        "          **            ++++           ooo  ooo\n",
        "          ***           ++++           oo    oo\n",
        "          ****          ++++           o      o\n",
        "          *****             ++++       o      o\n",
        "          ******            ++++       oo    oo\n",
        "          *******           ++++       ooo  ooo\n",
        "          ********          ++++       oooooooo\n",
        "\n",
        "```"
      ]
    },
    {
      "cell_type": "code",
      "execution_count": null,
      "metadata": {
        "id": "9G63XSQdxRu-"
      },
      "outputs": [],
      "source": [
        "# Escribe aquí la función"
      ]
    },
    {
      "cell_type": "code",
      "execution_count": null,
      "metadata": {
        "id": "f_MfV989xRu-"
      },
      "outputs": [],
      "source": [
        "#Realiza pruebas aquí\n"
      ]
    },
    {
      "cell_type": "markdown",
      "metadata": {
        "id": "8YX1StdRxRu-"
      },
      "source": [
        "### Clases y objetos\n",
        "\n",
        "Diseña una clase Matriz con las siguientes características:\n",
        "\n",
        "1. Como inicialización de un objeto es necesario conocer $n$, $m$ y tipo. En caso de no proporcionar $m$ la matriz se asume cuadrada de $n \\times n$. En caso de no proporcionar $n$ la matriz tendrá una dimensión de $1 \\times 1$.\n",
        "2. De no especificarse todos los elementos se inicializan a 0, a menos que exista un tipo especial ( `unos` o `diag` por el momento).\n",
        "3. Implementa con sobrecarga la suma de matrices, la multiplicación de matrices y la multiplicación por un escalar.\n",
        "4. Implementa como métodos eliminar columna y eliminar fila.   \n",
        "5. Programa la representación visual de la matriz.\n",
        "6. Ten en cuenta tambien el manejo de errores.\n",
        "\n",
        "\n",
        "Ejemplo de uso:\n",
        "\n",
        "```\n",
        ">>> A = Matriz(n=3, m=4)\n",
        "\n",
        ">>> print(A)\n",
        "0 0 0 0\n",
        "0 0 0 0\n",
        "0 0 0 0\n",
        "\n",
        ">>> A = A.quitafila(2)\n",
        "\n",
        ">>> print(A)\n",
        "0 0 0 0\n",
        "0 0 0 0\n",
        "\n",
        ">>> B = Matriz(4,4,'diag')\n",
        "\n",
        ">>> print(B)\n",
        "1 0 0 0\n",
        "0 1 0 0\n",
        "0 0 1 0\n",
        "0 0 0 1\n",
        "\n",
        ">>> C = Matriz(4,1,'unos')\n",
        "\n",
        ">>> print(C)\n",
        "1\n",
        "1\n",
        "1\n",
        "1\n",
        "\n",
        ">>> D = 3 * B * C\n",
        "\n",
        ">>> print(D)\n",
        "3\n",
        "3\n",
        "3\n",
        "3\n",
        "\n",
        ">>> E = 3 * B + C\n",
        "error \"No seas menso, si no son de la misma dimensión las matrices no se pueden sumar\"\n",
        "```"
      ]
    },
    {
      "cell_type": "code",
      "source": [
        "n=6\n",
        "m=8\n",
        "matriz_molde=[]\n",
        "p=('0'*m)\n",
        "matriz_molde.append(p)\n",
        "for k in range(n):\n",
        "  if k==n+1:\n",
        "    break\n",
        "  else:\n",
        "    print(matriz_molde)\n",
        "\n",
        "\n"
      ],
      "metadata": {
        "colab": {
          "base_uri": "https://localhost:8080/"
        },
        "id": "qp2m33zUKP0M",
        "outputId": "2207dd28-f381-46ff-be24-2ea0ed132290"
      },
      "execution_count": 83,
      "outputs": [
        {
          "output_type": "stream",
          "name": "stdout",
          "text": [
            "['00000000']\n",
            "['00000000']\n",
            "['00000000']\n",
            "['00000000']\n",
            "['00000000']\n",
            "['00000000']\n"
          ]
        }
      ]
    },
    {
      "cell_type": "code",
      "execution_count": 92,
      "metadata": {
        "id": "DR8mFmTCxRu_",
        "colab": {
          "base_uri": "https://localhost:8080/"
        },
        "outputId": "18277581-fdc9-4b84-d7df-48e71fd2a0c2"
      },
      "outputs": [
        {
          "output_type": "execute_result",
          "data": {
            "text/plain": [
              "<__main__.Matriz at 0x780111e10df0>"
            ]
          },
          "metadata": {},
          "execution_count": 92
        }
      ],
      "source": [
        "class Matriz:\n",
        "  def __init__(self,n:int,m:int,tipo:str):\n",
        "    n=n\n",
        "    m=m\n",
        "    tipo=tipo\n",
        "  def constuir(self):\n",
        "    self.n(int)\n",
        "    self.m(int)\n",
        "    self.tipo='ceros'\n",
        "    matriz_molde=[]\n",
        "    p=('0'*m)\n",
        "    matriz_molde.append(p)\n",
        "    for k in range(n):\n",
        "      if k==n+1:\n",
        "       break\n",
        "      else:\n",
        "       print(matriz_molde)\n",
        "\n",
        "\n",
        "Matriz(n=4,m=3,tipo='ceros')\n",
        "\n",
        "\n",
        "\n"
      ]
    },
    {
      "cell_type": "code",
      "execution_count": null,
      "metadata": {
        "id": "0r3oM4YLxRvA"
      },
      "outputs": [],
      "source": [
        "# Realiza las pruebas a la clase aquí\n",
        "\n",
        "A = Matriz(n=3, m=4)\n",
        "print('A =', A)\n",
        "\n",
        "A = A.quitafila(2)\n",
        "print('A = ', A)\n",
        "\n",
        "B = Matriz(4,4,'diag')\n",
        "print('B = ', B)\n",
        "\n",
        "C = Matriz(4,1,'unos')\n",
        "print('C =', C)\n",
        "\n",
        "D = 3 * B * C\n",
        "print('D = ', D)\n",
        "\n",
        "E = 3 * B + C\n",
        "print('E = ', E)"
      ]
    }
  ],
  "metadata": {
    "kernelspec": {
      "display_name": "ing-caract",
      "language": "python",
      "name": "python3"
    },
    "language_info": {
      "codemirror_mode": {
        "name": "ipython",
        "version": 3
      },
      "file_extension": ".py",
      "mimetype": "text/x-python",
      "name": "python",
      "nbconvert_exporter": "python",
      "pygments_lexer": "ipython3",
      "version": "3.8.13"
    },
    "orig_nbformat": 4,
    "colab": {
      "provenance": [],
      "include_colab_link": true
    }
  },
  "nbformat": 4,
  "nbformat_minor": 0
}